{
 "cells": [
  {
   "cell_type": "code",
   "execution_count": 4,
   "id": "d23e70ae-7439-49c3-88f2-b5899fd1f3b6",
   "metadata": {},
   "outputs": [
    {
     "name": "stdout",
     "output_type": "stream",
     "text": [
      "Data folder path: C:\\Users\\dhanya work\\desktop\\git\\Fake-News-Detection\\data\n"
     ]
    }
   ],
   "source": [
    "\n",
    "import os\n",
    "import pandas as pd\n",
    "import matplotlib.pyplot as plt\n",
    "import seaborn as sns\n",
    "\n",
    "# show data folder path\n",
    "print(\"Data folder path:\", os.path.abspath(\"../data\") if os.path.exists(\"../data\") else \"create data/ and add CSVs\")\n"
   ]
  },
  {
   "cell_type": "code",
   "execution_count": 5,
   "id": "8fa9dfe4-ccff-4f7f-a6f6-5154c2ead718",
   "metadata": {},
   "outputs": [
    {
     "name": "stdout",
     "output_type": "stream",
     "text": [
      "Loaded df shape: (44898, 2)\n"
     ]
    }
   ],
   "source": [
    "\n",
    "fake_path = \"../data/Fake.csv\"\n",
    "real_path = \"../data/True.csv\"\n",
    "\n",
    "# Example safe load:\n",
    "try:\n",
    "    fake = pd.read_csv(fake_path)\n",
    "    real = pd.read_csv(real_path)\n",
    "    fake['label'] = 'fake'\n",
    "    real['label'] = 'real'\n",
    "    df = pd.concat([fake[['text','label']], real[['text','label']]], ignore_index=True)\n",
    "    df = df.sample(frac=1, random_state=42).reset_index(drop=True)\n",
    "    print(\"Loaded df shape:\", df.shape)\n",
    "except Exception as e:\n",
    "    print(\"Load error:\", e)\n"
   ]
  },
  {
   "cell_type": "code",
   "execution_count": 6,
   "id": "2a665e28-6995-4278-a9df-b527c765e8ed",
   "metadata": {},
   "outputs": [
    {
     "data": {
      "text/html": [
       "<div>\n",
       "<style scoped>\n",
       "    .dataframe tbody tr th:only-of-type {\n",
       "        vertical-align: middle;\n",
       "    }\n",
       "\n",
       "    .dataframe tbody tr th {\n",
       "        vertical-align: top;\n",
       "    }\n",
       "\n",
       "    .dataframe thead th {\n",
       "        text-align: right;\n",
       "    }\n",
       "</style>\n",
       "<table border=\"1\" class=\"dataframe\">\n",
       "  <thead>\n",
       "    <tr style=\"text-align: right;\">\n",
       "      <th></th>\n",
       "      <th>text</th>\n",
       "      <th>label</th>\n",
       "      <th>length</th>\n",
       "    </tr>\n",
       "  </thead>\n",
       "  <tbody>\n",
       "    <tr>\n",
       "      <th>0</th>\n",
       "      <td>21st Century Wire says Ben Stein, reputable pr...</td>\n",
       "      <td>fake</td>\n",
       "      <td>171</td>\n",
       "    </tr>\n",
       "    <tr>\n",
       "      <th>1</th>\n",
       "      <td>WASHINGTON (Reuters) - U.S. President Donald T...</td>\n",
       "      <td>real</td>\n",
       "      <td>771</td>\n",
       "    </tr>\n",
       "    <tr>\n",
       "      <th>2</th>\n",
       "      <td>(Reuters) - Puerto Rico Governor Ricardo Rosse...</td>\n",
       "      <td>real</td>\n",
       "      <td>304</td>\n",
       "    </tr>\n",
       "  </tbody>\n",
       "</table>\n",
       "</div>"
      ],
      "text/plain": [
       "                                                text label  length\n",
       "0  21st Century Wire says Ben Stein, reputable pr...  fake     171\n",
       "1  WASHINGTON (Reuters) - U.S. President Donald T...  real     771\n",
       "2  (Reuters) - Puerto Rico Governor Ricardo Rosse...  real     304"
      ]
     },
     "metadata": {},
     "output_type": "display_data"
    },
    {
     "name": "stdout",
     "output_type": "stream",
     "text": [
      "label\n",
      "fake    23481\n",
      "real    21417\n",
      "Name: count, dtype: int64\n"
     ]
    },
    {
     "data": {
      "image/png": "[encoded data removed]",
      "text/plain": [
       "<Figure size 800x400 with 1 Axes>"
      ]
     },
     "metadata": {},
     "output_type": "display_data"
    }
   ],
   "source": [
    "# EDA\n",
    "df['length'] = df['text'].astype(str).str.split().apply(len)\n",
    "display(df.head(3))\n",
    "print(df['label'].value_counts())\n",
    "\n",
    "# histogram of text length\n",
    "plt.figure(figsize=(8,4))\n",
    "sns.histplot(data=df, x='length', hue='label', bins=50, element='step', stat='count')\n",
    "plt.title(\"Article length distribution by label\")\n",
    "plt.show()\n"
   ]
  },
  {
   "cell_type": "code",
   "execution_count": 9,
   "id": "7dcf9a77-69ad-48de-af32-b39ab9fc5806",
   "metadata": {},
   "outputs": [
    {
     "name": "stderr",
     "output_type": "stream",
     "text": [
      "[nltk_data] Downloading package punkt to C:\\Users\\dhanya\n",
      "[nltk_data]     work\\AppData\\Roaming\\nltk_data...\n",
      "[nltk_data]   Package punkt is already up-to-date!\n",
      "[nltk_data] Downloading package punkt_tab to C:\\Users\\dhanya\n",
      "[nltk_data]     work\\AppData\\Roaming\\nltk_data...\n",
      "[nltk_data]   Unzipping tokenizers\\punkt_tab.zip.\n",
      "[nltk_data] Downloading package stopwords to C:\\Users\\dhanya\n",
      "[nltk_data]     work\\AppData\\Roaming\\nltk_data...\n",
      "[nltk_data]   Package stopwords is already up-to-date!\n",
      "[nltk_data] Downloading package wordnet to C:\\Users\\dhanya\n",
      "[nltk_data]     work\\AppData\\Roaming\\nltk_data...\n",
      "[nltk_data]   Package wordnet is already up-to-date!\n"
     ]
    },
    {
     "name": "stdout",
     "output_type": "stream",
     "text": [
      "NLTK downloads complete.\n",
      "test visit running ran\n"
     ]
    }
   ],
   "source": [
    "import nltk\n",
    "for pkg in [\"punkt\", \"punkt_tab\", \"stopwords\", \"wordnet\"]:\n",
    "    nltk.download(pkg)\n",
    "print(\"NLTK downloads complete.\")\n",
    "\n",
    "import sys\n",
    "sys.path.append('..') \n",
    "from src.preprocess import clean_text\n",
    "print(clean_text(\"This is a TEST. Visit http://example.com now! Running, ran.\"))"
   ]
  },
  {
   "cell_type": "code",
   "execution_count": null,
   "id": "5247f07d-2dd2-4afa-9258-6ca8354fc3fa",
   "metadata": {},
   "outputs": [],
   "source": []
  }
 ],
 "metadata": {
  "kernelspec": {
   "display_name": "Python 3 (ipykernel)",
   "language": "python",
   "name": "python3"
  },
  "language_info": {
   "codemirror_mode": {
    "name": "ipython",
    "version": 3
   },
   "file_extension": ".py",
   "mimetype": "text/x-python",
   "name": "python",
   "nbconvert_exporter": "python",
   "pygments_lexer": "ipython3",
   "version": "3.13.1"
  }
 },
 "nbformat": 4,
 "nbformat_minor": 5
}
